{
 "cells": [
  {
   "cell_type": "markdown",
   "metadata": {},
   "source": [
    "## Simulations and Hypothesis Testing Code Snippets"
   ]
  },
  {
   "cell_type": "markdown",
   "metadata": {},
   "source": [
    "## <span style='background :yellow' > Simulations </span>"
   ]
  },
  {
   "cell_type": "markdown",
   "metadata": {},
   "source": [
    "**If you flip 8 coins, what is the probability of getting exactly 3 heads? What is the probability of getting more than 3 heads?**\n"
   ]
  },
  {
   "cell_type": "code",
   "execution_count": 8,
   "metadata": {},
   "outputs": [
    {
     "data": {
      "text/plain": [
       "0.63618"
      ]
     },
     "execution_count": 8,
     "metadata": {},
     "output_type": "execute_result"
    }
   ],
   "source": [
    "import numpy as np\n",
    "import pandas as pd\n",
    "\n",
    "np.random.seed(1349)\n",
    "\n",
    "# set outcomes as 0 and 1 (0 = tails, 1 = heads)\n",
    "outcomes = [1, 0]\n",
    "flips = np.random.choice(outcomes, size=(100_000,8))\n",
    "flips\n",
    "\n",
    "three_heads = flips.sum(axis =1) \n",
    "(three_heads == 3).mean()\n",
    "\n",
    "more_than_three_heads = flips.sum(axis=1)\n",
    "(more_than_three_heads > 3).mean()\n"
   ]
  },
  {
   "cell_type": "markdown",
   "metadata": {},
   "source": [
    "**There are approximately 3 web development cohorts for every 1 data science cohort at Codeup. Assuming that Codeup randomly selects an alumni to put on a billboard, what are the odds that the two billboards I drive past both have data science students on them?**"
   ]
  },
  {
   "cell_type": "code",
   "execution_count": 9,
   "metadata": {},
   "outputs": [
    {
     "data": {
      "text/plain": [
       "0.06267"
      ]
     },
     "execution_count": 9,
     "metadata": {},
     "output_type": "execute_result"
    }
   ],
   "source": [
    "# set outcomes as 0 and 1 (0 = webdev, 1 = datasci)\n",
    "outcomes = [0, 1]\n",
    "bboards = np.random.choice(outcomes, size=(100_000,2), p=[0.75, 0.25])\n",
    "bboards\n",
    "\n",
    "two_datasci = bboards.sum(axis=1)\n",
    "(two_datasci == 2).mean()"
   ]
  },
  {
   "cell_type": "markdown",
   "metadata": {},
   "source": [
    "**Compare Heights**\n",
    "* Men have an average height of 178 cm and standard deviation of 8cm.\n",
    "* Women have a mean of 170, sd = 6cm.\n",
    "\n",
    "If a man and woman are chosen at random, P(woman taller than man)?"
   ]
  },
  {
   "cell_type": "code",
   "execution_count": 10,
   "metadata": {},
   "outputs": [
    {
     "data": {
      "text/plain": [
       "0.21127"
      ]
     },
     "execution_count": 10,
     "metadata": {},
     "output_type": "execute_result"
    }
   ],
   "source": [
    "man = np.random.normal(178, 8, size=(100_000, 1))\n",
    "woman = np.random.normal(170, 6, size=(100_000, 1))\n",
    "\n",
    "woman_is_taller = (woman > man)\n",
    "\n",
    "woman_is_taller.mean()\n"
   ]
  },
  {
   "cell_type": "markdown",
   "metadata": {},
   "source": [
    "## <span style='background :yellow' > Probability Distributions -- Poisson</span>"
   ]
  },
  {
   "cell_type": "markdown",
   "metadata": {},
   "source": [
    "**A bank found that the average number of cars waiting during the noon hour at a drive-up window follows a Poisson distribution with a mean of 2 cars. Make a chart of this distribution and answer these questions concerning the probability of cars waiting at the drive-up window.**\n",
    "* What is the probability that no cars drive up in the noon hour?\n",
    "* What is the probability that 3 or more cars come through the drive through?\n",
    "* How likely is it that the drive through gets at least 1 car?"
   ]
  },
  {
   "cell_type": "code",
   "execution_count": 12,
   "metadata": {},
   "outputs": [
    {
     "data": {
      "text/plain": [
       "0.865"
      ]
     },
     "execution_count": 12,
     "metadata": {},
     "output_type": "execute_result"
    }
   ],
   "source": [
    "import matplotlib.pyplot as plt\n",
    "import numpy as np\n",
    "from scipy import stats\n",
    "\n",
    "λ = 2\n",
    "\n",
    "x = np.arange(0,10)\n",
    "y = stats.poisson(λ).pmf(x)\n",
    "\n",
    "# What is the probability that no cars drive up in the noon hour?\n",
    "stats.poisson(λ).pmf(0).round(3)\n",
    "\n",
    "# What is the probability that 3 or more cars come through the drive through?\n",
    "stats.poisson(λ).sf(2).round(3)\n",
    "\n",
    "# How likely is it that the drive through gets at least 1 car?\n",
    "1-stats.poisson(λ).pmf(0).round(3)"
   ]
  },
  {
   "cell_type": "markdown",
   "metadata": {},
   "source": [
    "## <span style='background :yellow' > Probability Distributions -- Normal Distribution</span>\n",
    "Grades of State University graduates are normally distributed with a mean of 3.0 and a standard deviation of .3. Calculate the following:\n"
   ]
  },
  {
   "cell_type": "code",
   "execution_count": 13,
   "metadata": {},
   "outputs": [
    {
     "data": {
      "text/plain": [
       "95.22096477271853"
      ]
     },
     "execution_count": 13,
     "metadata": {},
     "output_type": "execute_result"
    }
   ],
   "source": [
    "# What grade point average is required to be in the top 5% of the graduating class?\n",
    "stats.norm(3, 0.3).isf(0.05)\n",
    "\n",
    "# What GPA constitutes the bottom 15% of the class?\n",
    "stats.norm(3, 0.3).ppf(0.15)\n",
    "\n",
    "#confirm with simulation method\n",
    "np.quantile(np.random.normal(3, 0.3, 10_000), 0.15)\n",
    "\n",
    "# An eccentric alumnus left scholarship money for students in the third decile from the bottom of their class.\n",
    "# Determine the range of the third decile.\n",
    "# Would a student with a 2.8 grade point average qualify for this scholarship?\n",
    "\n",
    "stats.norm(3, 0.3).ppf([0.2,0.3])\n",
    "\n",
    "# If I have a GPA of 3.5, what percentile am I in?\n",
    "stats.norm(3, 0.3).cdf(3.5) *100"
   ]
  },
  {
   "cell_type": "markdown",
   "metadata": {},
   "source": [
    "**Connect to the employees database and find the average salary of current employees, along with the standard deviation. For the following questions, calculate the answer based on modeling the employees salaries with a normal distribution defined by the calculated mean and standard deviation then compare this answer to the actual values present in the salaries dataset.**"
   ]
  },
  {
   "cell_type": "code",
   "execution_count": null,
   "metadata": {},
   "outputs": [],
   "source": [
    "import env\n",
    "import pandas as pd\n",
    "\n",
    "url = f'mysql+pymysql://{env.user}:{env.password}@{env.host}/employees'\n",
    "query = '''\n",
    "SELECT *\n",
    "FROM salaries s\n",
    "WHERE emp_no IN (\n",
    "    SELECT emp_no FROM dept_emp\n",
    "    WHERE to_date > NOW()\n",
    ") AND to_date > NOW()\n",
    "'''\n",
    "    \n",
    "salaries = pd.read_sql(query, url)"
   ]
  },
  {
   "cell_type": "code",
   "execution_count": null,
   "metadata": {},
   "outputs": [],
   "source": [
    "# What percent of employees earn less than 60,000?\n",
    "mean = salaries.salary.mean()\n",
    "sd = salaries.salary.std()\n",
    "mean, sd\n",
    "stats.norm(mean,sd).cdf(60000)\n",
    "\n",
    "# What percent of employees earn more than 95,000?\n",
    "stats.norm(mean, sd).sf(95000)\n",
    "\n",
    "# What percent of employees earn between 65,000 and 80,000?\n",
    "np.diff(stats.norm(mean, sd).cdf([65000, 80000]))\n",
    "\n",
    "# What do the top 5% of employees make?\n",
    "stats.norm(mean, sd).isf(.05)\n",
    "\n",
    "# another way\n",
    "salaries.salary.quantile(.95)\n",
    "\n",
    "#Can look at histogram to confirm normal distribution"
   ]
  },
  {
   "cell_type": "markdown",
   "metadata": {},
   "source": [
    "## <span style='background :yellow' > Probability Distributions -- Binomial Distribution</span>"
   ]
  },
  {
   "cell_type": "markdown",
   "metadata": {},
   "source": [
    "**A marketing website has an average click-through rate of 2%. One day they observe 4326 visitors and 97 click-throughs. How likely is it that this many people or more click through?**"
   ]
  },
  {
   "cell_type": "code",
   "execution_count": null,
   "metadata": {},
   "outputs": [],
   "source": [
    "n = 4326\n",
    "p = 0.02\n",
    "stats.binom(n, p).sf(96)\n",
    "\n",
    "# Using simulation\n",
    "clicks = np.random.choice([0,1], (100_000, 4326), p = [0.98, 0.02])\n",
    "clicks\n",
    "\n",
    "(clicks.sum(axis =1) >= 97).mean()\n",
    "\n",
    "# Using poisson approximation\n",
    "λ = n * p\n",
    "\n",
    "stats.poisson(λ).sf(96)"
   ]
  },
  {
   "cell_type": "markdown",
   "metadata": {},
   "source": [
    "**You are working on some statistics homework consisting of 100 questions where all of the answers are a probability rounded to the hundreths place. Looking to save time, you put down random probabilities as the answer to each question.\n",
    "What is the probability that at least one of your first 60 answers is correct?**"
   ]
  },
  {
   "cell_type": "code",
   "execution_count": 14,
   "metadata": {},
   "outputs": [
    {
     "data": {
      "text/plain": [
       "0.4528433576092388"
      ]
     },
     "execution_count": 14,
     "metadata": {},
     "output_type": "execute_result"
    }
   ],
   "source": [
    "n = 60\n",
    "p = 0.01\n",
    "\n",
    "stats.binom(n, p).sf(0)"
   ]
  }
 ],
 "metadata": {
  "kernelspec": {
   "display_name": "Python 3",
   "language": "python",
   "name": "python3"
  },
  "language_info": {
   "codemirror_mode": {
    "name": "ipython",
    "version": 3
   },
   "file_extension": ".py",
   "mimetype": "text/x-python",
   "name": "python",
   "nbconvert_exporter": "python",
   "pygments_lexer": "ipython3",
   "version": "3.8.5"
  }
 },
 "nbformat": 4,
 "nbformat_minor": 4
}
