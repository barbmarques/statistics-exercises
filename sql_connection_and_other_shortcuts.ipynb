{
 "cells": [
  {
   "cell_type": "code",
   "execution_count": null,
   "metadata": {},
   "outputs": [],
   "source": [
    "#set up sql connection\n",
    "#environment set up\n",
    "\n",
    "from env import host, password, user \n",
    "\n",
    "def get_db_url(user, password, host, db):\n",
    "    return f'mysql+pymysql://{user}:{password}@{host}/{db}'   \n",
    "\n",
    "\n",
    "url = get_db_url(user,password,host,'employees')\n",
    "query = '''\n",
    "SELECT salary, DATEDIFF(curdate(), hire_date) as 'days'\n",
    "FROM salaries\n",
    "JOIN employees USING(emp_no)\n",
    "WHERE to_date > now()\n",
    "'''\n",
    "\n",
    "employees = pd.read_sql(query, url)"
   ]
  }
 ],
 "metadata": {
  "kernelspec": {
   "display_name": "Python 3",
   "language": "python",
   "name": "python3"
  },
  "language_info": {
   "codemirror_mode": {
    "name": "ipython",
    "version": 3
   },
   "file_extension": ".py",
   "mimetype": "text/x-python",
   "name": "python",
   "nbconvert_exporter": "python",
   "pygments_lexer": "ipython3",
   "version": "3.8.5"
  }
 },
 "nbformat": 4,
 "nbformat_minor": 4
}
