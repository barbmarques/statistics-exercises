{
 "cells": [
  {
   "cell_type": "code",
   "execution_count": null,
   "metadata": {},
   "outputs": [],
   "source": [
    "#set up sql connection\n",
    "#environment set up\n",
    "\n",
    "from env import host, password, user \n",
    "\n",
    "def get_db_url(user, password, host, db):\n",
    "    return f'mysql+pymysql://{user}:{password}@{host}/{db}'   \n",
    "\n",
    "\n",
    "url = get_db_url(user,password,host,'employees')\n",
    "query = '''\n",
    "SELECT salary, DATEDIFF(curdate(), hire_date) as 'days'\n",
    "FROM salaries\n",
    "JOIN employees USING(emp_no)\n",
    "WHERE to_date > now()\n",
    "'''\n",
    "\n",
    "employees = pd.read_sql(query, url)"
   ]
  },
  {
   "cell_type": "code",
   "execution_count": null,
   "metadata": {},
   "outputs": [],
   "source": [
    "    \n",
    "# What tables do I need? \n",
    "# employees\n",
    "# dept_emp\n",
    "# departments\n",
    "\n",
    "# current employees only\n",
    "\n",
    "# Null: There is no relationship between employees gender and whether they work in sales or marketing.\n",
    "# Ha: there is a relationship between an employees gender and wehther they work in sales or marketing depts.\n",
    "\n",
    "url = get_db_url(user,password,host,'employees')\n",
    "query = '''\n",
    "SELECT e.gender, d.dept_name\n",
    "FROM employees AS e\n",
    "JOIN dept_emp as demp ON demp.emp_no = e.emp_no\n",
    "AND to_date > curdate()\n",
    "JOIN departments as d ON demp.dept_no = d.dept_no\n",
    "'''\n",
    "\n",
    "gender_by_dept = pd.read_sql(query, url)"
   ]
  },
  {
   "cell_type": "code",
   "execution_count": null,
   "metadata": {},
   "outputs": [],
   "source": [
    "# I will need:\n",
    "# employee gender\n",
    "# manager status\n",
    "#\n",
    "# table needed: employees, dept_manager\n",
    "\n",
    "query = \"\"\"\n",
    "    SELECT e.emp_no, e.gender, dm.dept_no\n",
    "    FROM employees as e\n",
    "    LEFT JOIN dept_manager AS dm ON e.emp_no = dm.emp_no\n",
    "    \"\"\""
   ]
  }
 ],
 "metadata": {
  "kernelspec": {
   "display_name": "Python 3",
   "language": "python",
   "name": "python3"
  },
  "language_info": {
   "codemirror_mode": {
    "name": "ipython",
    "version": 3
   },
   "file_extension": ".py",
   "mimetype": "text/x-python",
   "name": "python",
   "nbconvert_exporter": "python",
   "pygments_lexer": "ipython3",
   "version": "3.8.5"
  }
 },
 "nbformat": 4,
 "nbformat_minor": 4
}
