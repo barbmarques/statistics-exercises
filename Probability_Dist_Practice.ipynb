{
 "cells": [
  {
   "cell_type": "markdown",
   "metadata": {},
   "source": [
    "Source: \"Probability Distrubtions and Hypothesis Testing Using Python\", Suchanaga Chakrabarti, 1/14/2020.   https://medium.com/analytics-vidhya/probability-distributions-and-hypothesis-tests-using-python-2ee25cb3a90f"
   ]
  },
  {
   "cell_type": "markdown",
   "metadata": {},
   "source": [
    "## Probability Distributions:\n",
    "    \n",
    "**Binomial Distribution** is a discrete probability distribution that has several applications in business contexts. \n",
    "\n",
    "A random variable is said to follow a binomial distribution when: \n",
    "* It can have 2 outcomes: success and failure\n",
    "* Getting x successes out of n trials\n",
    "* Probability p is constant through the event."
   ]
  },
  {
   "cell_type": "markdown",
   "metadata": {},
   "source": [
    "**Problem statement:**\n",
    "\n",
    "SREE CLOTHING is a clothing company selling clothes on a daily basis. It is observed that 10% of their customers return the items for many reasons. On a specific day, 20 customers purchased items from the shop. **Calculate:**\n",
    "\n",
    "* The probability that exactly 5 customers will return the items."
   ]
  },
  {
   "cell_type": "code",
   "execution_count": 5,
   "metadata": {},
   "outputs": [],
   "source": [
    "from pydataset import data\n",
    "\n",
    "import pandas as pd\n",
    "import numpy as np\n",
    "import matplotlib.pyplot as plt\n",
    "from scipy import stats\n"
   ]
  },
  {
   "cell_type": "code",
   "execution_count": 13,
   "metadata": {},
   "outputs": [
    {
     "name": "stdout",
     "output_type": "stream",
     "text": [
      "0.03192136111995428\n",
      "\n",
      "The probability that exactly 5 customers will return the items is:  3.19%.\n"
     ]
    }
   ],
   "source": [
    "n = 20\n",
    "p = 0.10\n",
    "returns = stats.binom(n, p).pmf(5)\n",
    "x = np.round(returns * 100,2)\n",
    "print(returns)\n",
    "print()\n",
    "print(f\"The probability that exactly 5 customers will return the items is:  {x}%.\")"
   ]
  },
  {
   "cell_type": "code",
   "execution_count": null,
   "metadata": {},
   "outputs": [],
   "source": []
  }
 ],
 "metadata": {
  "kernelspec": {
   "display_name": "Python 3",
   "language": "python",
   "name": "python3"
  },
  "language_info": {
   "codemirror_mode": {
    "name": "ipython",
    "version": 3
   },
   "file_extension": ".py",
   "mimetype": "text/x-python",
   "name": "python",
   "nbconvert_exporter": "python",
   "pygments_lexer": "ipython3",
   "version": "3.8.5"
  }
 },
 "nbformat": 4,
 "nbformat_minor": 4
}
