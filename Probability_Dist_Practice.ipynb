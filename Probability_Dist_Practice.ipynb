{
 "cells": [
  {
   "cell_type": "markdown",
   "metadata": {},
   "source": [
    "Source: \"Probability Distrubtions and Hypothesis Testing Using Python\", Suchanaga Chakrabarti, 1/14/2020.   https://medium.com/analytics-vidhya/probability-distributions-and-hypothesis-tests-using-python-2ee25cb3a90f"
   ]
  },
  {
   "cell_type": "markdown",
   "metadata": {},
   "source": [
    "## Probability Distributions:\n",
    "    \n",
    "**Binomial Distribution** is a discrete probability distribution that has several applications in business contexts. \n",
    "\n",
    "A random variable is said to follow a binomial distribution when: \n",
    "* It can have 2 outcomes: success and failure\n",
    "* Getting x successes out of n trials\n",
    "* Probability p is constant through the event."
   ]
  },
  {
   "cell_type": "markdown",
   "metadata": {},
   "source": [
    "**Problem statement:**\n",
    "\n",
    "SREE CLOTHING is a clothing company selling clothes on a daily basis. It is observed that 10% of their customers return the items for many reasons. On a specific day, 20 customers purchased items from the shop. **Calculate:**\n",
    "\n",
    "* The probability that exactly 5 customers will return the items."
   ]
  },
  {
   "cell_type": "code",
   "execution_count": 15,
   "metadata": {},
   "outputs": [],
   "source": [
    "from pydataset import data\n",
    "import seaborn as sn\n",
    "import pandas as pd\n",
    "import numpy as np\n",
    "import matplotlib.pyplot as plt\n",
    "from scipy import stats\n"
   ]
  },
  {
   "cell_type": "code",
   "execution_count": 16,
   "metadata": {},
   "outputs": [
    {
     "name": "stdout",
     "output_type": "stream",
     "text": [
      "0.03192136111995428\n",
      "\n",
      "The probability that exactly 5 customers will return the items is:  3.19%.\n"
     ]
    }
   ],
   "source": [
    "n = 20\n",
    "p = 0.10\n",
    "returns = stats.binom(n, p).pmf(5)\n",
    "x = np.round(returns * 100,2)\n",
    "print(returns)\n",
    "print()\n",
    "print(f\"The probability that exactly 5 customers will return the items is:  {x}%.\")"
   ]
  },
  {
   "cell_type": "code",
   "execution_count": 23,
   "metadata": {},
   "outputs": [
    {
     "data": {
      "text/plain": [
       "0.03192136111995428"
      ]
     },
     "execution_count": 23,
     "metadata": {},
     "output_type": "execute_result"
    }
   ],
   "source": [
    "# Could have done this ^^^ is one line of code also.\n",
    "\n",
    "stats.binom.pmf(5, 20, .10)"
   ]
  },
  {
   "cell_type": "code",
   "execution_count": 19,
   "metadata": {},
   "outputs": [
    {
     "data": {
      "text/plain": [
       "Text(0, 0.5, 'pmf')"
      ]
     },
     "execution_count": 19,
     "metadata": {},
     "output_type": "execute_result"
    },
    {
     "data": {
      "image/png": "[encoded data removed]",
      "text/plain": [
       "<Figure size 432x288 with 1 Axes>"
      ]
     },
     "metadata": {
      "needs_background": "light"
     },
     "output_type": "display_data"
    }
   ],
   "source": [
    "#We can visualize how the PMF varies with the increasing number of successful trials by creating a list and bar chart with all number of success 0-20\n",
    "pmf_data = pd.DataFrame({'success':range(0,21), 'pmf':list(stats.binom.pmf(range(0,21), 20, 0.1))})\n",
    "\n",
    "\n",
    "sn.barplot(x = pmf_data.success, y = pmf_data.pmf)\n",
    "plt.xlabel(\"Number of Items Returned\")\n",
    "plt.ylabel(\"pmf\")"
   ]
  },
  {
   "cell_type": "markdown",
   "metadata": {},
   "source": [
    "* The probability that a maximum of 5 customers will return the items."
   ]
  },
  {
   "cell_type": "code",
   "execution_count": 20,
   "metadata": {},
   "outputs": [
    {
     "data": {
      "text/plain": [
       "0.988746865835491"
      ]
     },
     "execution_count": 20,
     "metadata": {},
     "output_type": "execute_result"
    }
   ],
   "source": [
    "n = 20\n",
    "p = 0.10\n",
    "stats.binom(n, p).cdf(5)"
   ]
  },
  {
   "cell_type": "code",
   "execution_count": 25,
   "metadata": {},
   "outputs": [
    {
     "name": "stdout",
     "output_type": "stream",
     "text": [
      "The probability that no more than 5 customers will return the items is 98.87%\n"
     ]
    }
   ],
   "source": [
    "returns = np.round(stats.binom(n, p).cdf(5) * 100, 2)\n",
    "print(f\"The probability that no more than 5 customers will return the items is {returns}%\")"
   ]
  },
  {
   "cell_type": "markdown",
   "metadata": {},
   "source": [
    "* The probability that more than 5 customers will return the items. "
   ]
  },
  {
   "cell_type": "code",
   "execution_count": 21,
   "metadata": {},
   "outputs": [
    {
     "data": {
      "text/plain": [
       "0.011253134164509009"
      ]
     },
     "execution_count": 21,
     "metadata": {},
     "output_type": "execute_result"
    }
   ],
   "source": [
    "n = 20\n",
    "p = 0.10\n",
    "stats.binom(n,p).sf(5)\n",
    "\n",
    "# We could have also used:  1 - stats.binom(n,p).cdf(5)"
   ]
  },
  {
   "cell_type": "code",
   "execution_count": 26,
   "metadata": {},
   "outputs": [
    {
     "name": "stdout",
     "output_type": "stream",
     "text": [
      "The probability that more than 5 customers will return the items is 1.13%\n"
     ]
    }
   ],
   "source": [
    "returns = np.round(stats.binom(n, p).sf(5) * 100, 2)\n",
    "print(f\"The probability that more than 5 customers will return the items is {returns}%\")"
   ]
  },
  {
   "cell_type": "markdown",
   "metadata": {},
   "source": [
    "* The average number of customers who are likely to return the items and the variance and the standard deviation of the number of returns.\n"
   ]
  },
  {
   "cell_type": "code",
   "execution_count": 31,
   "metadata": {},
   "outputs": [
    {
     "name": "stdout",
     "output_type": "stream",
     "text": [
      "Average:  2.0 Variance:  1.8\n"
     ]
    }
   ],
   "source": [
    "#. The average is given by np Variance is given by np*(1-p)\n",
    "\n",
    "mean,var = stats.binom.stats(20, 0.1)\n",
    "print('Average: ',mean, 'Variance: ',var)"
   ]
  },
  {
   "cell_type": "code",
   "execution_count": 39,
   "metadata": {},
   "outputs": [
    {
     "data": {
      "text/plain": [
       "0.08911971230481867"
      ]
     },
     "execution_count": 39,
     "metadata": {},
     "output_type": "execute_result"
    }
   ],
   "source": [
    "### find standard deviation  -- not certain this is correct!!!!!\n",
    "pmf_data = pd.DataFrame({'success':range(0,21), 'pmf':list(stats.binom.pmf(range(0,21), 20, 0.1))})\n",
    "\n",
    "np.std(pmf_data.pmf)"
   ]
  },
  {
   "cell_type": "markdown",
   "metadata": {},
   "source": [
    "**Poisson Distribution**\n",
    "\n",
    "Used in calculating the number of events that may occur over a period of time and space. We need a rate of occurrence (lambda)"
   ]
  },
  {
   "cell_type": "markdown",
   "metadata": {},
   "source": [
    "**Problem Statement:** \n",
    "The number of cash withdrawals at an ATM follows a Poisson Distribution at 10 withdrawals per hour. Calculate:\n",
    "* The probability that a maximum of 5 withdrawals will happen.\n"
   ]
  },
  {
   "cell_type": "code",
   "execution_count": 42,
   "metadata": {},
   "outputs": [
    {
     "data": {
      "text/plain": [
       "0.06708596287903189"
      ]
     },
     "execution_count": 42,
     "metadata": {},
     "output_type": "execute_result"
    }
   ],
   "source": [
    "λ = 10    #lambda is 10, based on 10 per hour\n",
    "stats.poisson(λ).cdf(5)"
   ]
  },
  {
   "cell_type": "markdown",
   "metadata": {},
   "source": [
    "* The probability that a number of withdrawals over a period of 3 hours will exceed 30."
   ]
  },
  {
   "cell_type": "code",
   "execution_count": 43,
   "metadata": {},
   "outputs": [
    {
     "data": {
      "text/plain": [
       "0.45164848742208863"
      ]
     },
     "execution_count": 43,
     "metadata": {},
     "output_type": "execute_result"
    }
   ],
   "source": [
    "λ = 30    #lamda is 30, based on 10 per hour for three hours\n",
    "stats.poisson(λ).sf(30)"
   ]
  },
  {
   "cell_type": "code",
   "execution_count": null,
   "metadata": {},
   "outputs": [],
   "source": [
    "#We can visualize the change in PMF as the number of withdrawals increases: "
   ]
  }
 ],
 "metadata": {
  "kernelspec": {
   "display_name": "Python 3",
   "language": "python",
   "name": "python3"
  },
  "language_info": {
   "codemirror_mode": {
    "name": "ipython",
    "version": 3
   },
   "file_extension": ".py",
   "mimetype": "text/x-python",
   "name": "python",
   "nbconvert_exporter": "python",
   "pygments_lexer": "ipython3",
   "version": "3.8.5"
  }
 },
 "nbformat": 4,
 "nbformat_minor": 4
}
