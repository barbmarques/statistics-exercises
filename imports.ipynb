{
 "cells": [
  {
   "cell_type": "code",
   "execution_count": null,
   "metadata": {},
   "outputs": [],
   "source": [
    "from pydataset import data\n",
    "\n",
    "import pandas as pd\n",
    "import numpy as np\n",
    "import matplotlib.pyplot as plt\n",
    "import seaborn as sns\n",
    "\n",
    "from scipy import stats\n",
    "\n",
    "from math import sqrt\n",
    "\n",
    "# setting a random seed\n",
    "np.random.seed(1349)\n",
    "\n",
    "\n",
    "# make a crosstab of observed values\n",
    "\n",
    "observed = pd.crosstab(gender_by_dept.gender, gender_by_dept.dept_name)\n",
    "observed\n",
    "#read csv data file\n",
    "\n",
    "telco = pd.read_csv('Cust_Churn_Telco.csv')\n",
    "telco.head(1)"
   ]
  },
  {
   "cell_type": "code",
   "execution_count": null,
   "metadata": {},
   "outputs": [],
   "source": [
    "from env import host, password, user \n",
    "\n",
    "def get_db_url(user, password, host, db):\n",
    "    return f'mysql+pymysql://{user}:{password}@{host}/{db}'   "
   ]
  }
 ],
 "metadata": {
  "kernelspec": {
   "display_name": "Python 3",
   "language": "python",
   "name": "python3"
  },
  "language_info": {
   "codemirror_mode": {
    "name": "ipython",
    "version": 3
   },
   "file_extension": ".py",
   "mimetype": "text/x-python",
   "name": "python",
   "nbconvert_exporter": "python",
   "pygments_lexer": "ipython3",
   "version": "3.8.5"
  }
 },
 "nbformat": 4,
 "nbformat_minor": 4
}
