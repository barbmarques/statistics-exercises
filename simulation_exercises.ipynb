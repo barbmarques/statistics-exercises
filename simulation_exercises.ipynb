{
 "cells": [
  {
   "cell_type": "markdown",
   "metadata": {},
   "source": [
    "### Simulation Exercises"
   ]
  },
  {
   "cell_type": "markdown",
   "metadata": {},
   "source": [
    "1.  How likely is it that you roll doubles when rolling two dice?\n"
   ]
  },
  {
   "cell_type": "code",
   "execution_count": 2,
   "metadata": {},
   "outputs": [],
   "source": [
    "import numpy as np\n",
    "import pandas as pd\n",
    "%matplotlib inline\n",
    "\n",
    "np.random.seed(1349)"
   ]
  },
  {
   "cell_type": "code",
   "execution_count": 4,
   "metadata": {},
   "outputs": [
    {
     "data": {
      "text/plain": [
       "0.16675"
      ]
     },
     "execution_count": 4,
     "metadata": {},
     "output_type": "execute_result"
    }
   ],
   "source": [
    "# represent the situation of rolling two dice\n",
    "\n",
    "first_die = np.random.choice([1,2,3,4,5,6], size = 100_000)\n",
    "second_die = np.random.choice([1,2,3,4,5,6], size = 100_000)\n",
    "\n",
    "first_die, second_die\n",
    "\n",
    "doubles = (first_die == second_die)\n",
    "\n",
    "doubles.mean()"
   ]
  },
  {
   "cell_type": "code",
   "execution_count": null,
   "metadata": {},
   "outputs": [],
   "source": []
  },
  {
   "cell_type": "markdown",
   "metadata": {},
   "source": [
    "2. If you flip 8 coins, what is the probability of getting exactly 3 heads? What is the probability of getting more than 3 heads?\n",
    "\n"
   ]
  },
  {
   "cell_type": "code",
   "execution_count": 8,
   "metadata": {},
   "outputs": [
    {
     "data": {
      "text/plain": [
       "array([[0, 1, 1, ..., 1, 1, 1],\n",
       "       [0, 0, 1, ..., 0, 0, 1],\n",
       "       [0, 1, 0, ..., 1, 0, 0],\n",
       "       ...,\n",
       "       [1, 0, 0, ..., 1, 0, 0],\n",
       "       [0, 0, 0, ..., 0, 1, 0],\n",
       "       [1, 1, 0, ..., 1, 1, 0]])"
      ]
     },
     "execution_count": 8,
     "metadata": {},
     "output_type": "execute_result"
    }
   ],
   "source": [
    "# set outcomes as 0 and 1 (0 = tails, 1 = heads)\n",
    "outcomes = [1, 0]\n",
    "flips = np.random.choice(outcomes, size=(100_000,8))\n",
    "flips"
   ]
  },
  {
   "cell_type": "code",
   "execution_count": 9,
   "metadata": {},
   "outputs": [
    {
     "data": {
      "text/plain": [
       "0.21867"
      ]
     },
     "execution_count": 9,
     "metadata": {},
     "output_type": "execute_result"
    }
   ],
   "source": [
    "three_heads = flips.sum(axis =1) \n",
    "(three_heads == 3).mean()"
   ]
  },
  {
   "cell_type": "code",
   "execution_count": 10,
   "metadata": {},
   "outputs": [
    {
     "data": {
      "text/plain": [
       "0.63798"
      ]
     },
     "execution_count": 10,
     "metadata": {},
     "output_type": "execute_result"
    }
   ],
   "source": [
    "# set outcomes as 0 and 1 (0 = tails, 1 = heads)\n",
    "outcomes = [1, 0]\n",
    "flips = np.random.choice(outcomes, size=(100_000,8))\n",
    "flips\n",
    "\n",
    "more_than_three_heads = flips.sum(axis=1)\n",
    "(more_than_three_heads > 3).mean()"
   ]
  },
  {
   "cell_type": "markdown",
   "metadata": {},
   "source": [
    "3.  There are approximately 3 web development cohorts for every 1 data science cohort at Codeup. Assuming that Codeup randomly selects an alumni to put on a billboard, what are the odds that the two billboards I drive past both have data science students on them?\n",
    "\n"
   ]
  },
  {
   "cell_type": "code",
   "execution_count": 36,
   "metadata": {},
   "outputs": [
    {
     "data": {
      "text/plain": [
       "0.06308"
      ]
     },
     "execution_count": 36,
     "metadata": {},
     "output_type": "execute_result"
    }
   ],
   "source": [
    "# set outcomes as 0 and 1 (0 = webdev, 1 = datasci)\n",
    "outcomes = [0, 1]\n",
    "bboards = np.random.choice(outcomes, size=(100_000,2), p=[0.75, 0.25])\n",
    "bboards\n",
    "\n",
    "two_datasci = bboards.sum(axis=1)\n",
    "(two_datasci == 2).mean()"
   ]
  },
  {
   "cell_type": "markdown",
   "metadata": {},
   "source": [
    "4.  Codeup students buy, on average, 3 poptart packages (+- 1.5) a day from the snack vending machine. If on monday the machine is restocked with 17 poptart packages, how likely is it that I will be able to buy some poptarts on Friday afternoon?"
   ]
  },
  {
   "cell_type": "code",
   "execution_count": 39,
   "metadata": {},
   "outputs": [
    {
     "data": {
      "text/plain": [
       "array([[4.21447084, 2.85903531, 2.51005127, 4.58871933, 1.0511405 ],\n",
       "       [2.79456861, 4.33325348, 3.2896929 , 2.35344505, 3.74242569],\n",
       "       [1.66297361, 3.90053821, 2.93626801, 1.29438113, 2.68993225],\n",
       "       ...,\n",
       "       [2.0109889 , 4.32314916, 2.82230564, 2.94025156, 0.58165027],\n",
       "       [4.96770925, 4.26679939, 2.60653261, 4.74321064, 2.53310067],\n",
       "       [1.96466356, 4.39189034, 2.77511586, 3.27786221, 4.245001  ]])"
      ]
     },
     "execution_count": 39,
     "metadata": {},
     "output_type": "execute_result"
    }
   ],
   "source": [
    "# generate random samples from a normal distribution\n",
    "# (mean, std, size)\n",
    "pop_avg = 3\n",
    "pop_std = 1.5\n",
    "n_trials = n_cols = 5\n",
    "n_simulations = 100_000\n",
    "\n",
    "poptarts = np.random.normal(3,1.5,size=(100_000, 5))\n",
    "poptarts"
   ]
  },
  {
   "cell_type": "code",
   "execution_count": 40,
   "metadata": {},
   "outputs": [
    {
     "data": {
      "text/plain": [
       "3.0017006420491423"
      ]
     },
     "execution_count": 40,
     "metadata": {},
     "output_type": "execute_result"
    }
   ],
   "source": [
    "poptarts.mean()   #mean per day"
   ]
  },
  {
   "cell_type": "code",
   "execution_count": 42,
   "metadata": {},
   "outputs": [
    {
     "data": {
      "text/plain": [
       "0.72325"
      ]
     },
     "execution_count": 42,
     "metadata": {},
     "output_type": "execute_result"
    }
   ],
   "source": [
    "# add each row to find poptarts bought each week\n",
    "total_tarts = poptarts.sum(axis = 1)\n",
    "\n",
    "# if the total tarts already purchased is < 17, there will be poptarts available for purchase on Friday\n",
    "\n",
    "(total_tarts < 17).mean()"
   ]
  },
  {
   "cell_type": "markdown",
   "metadata": {},
   "source": [
    "5. Compare Heights\n",
    "\n",
    "   * Men have an average height of 178 cm and standard deviation of 8cm.\n",
    "   * Women have a mean of 170, sd = 6cm.\n",
    "   * If a man and woman are chosen at random, P(woman taller than man)?"
   ]
  },
  {
   "cell_type": "code",
   "execution_count": 29,
   "metadata": {},
   "outputs": [
    {
     "data": {
      "text/plain": [
       "0.21166"
      ]
     },
     "execution_count": 29,
     "metadata": {},
     "output_type": "execute_result"
    }
   ],
   "source": [
    "\n",
    "man = np.random.normal(178, 8, size=(100_000, 1))\n",
    "woman = np.random.normal(170, 6, size=(100_000, 1))\n",
    "\n",
    "woman_is_taller = (woman > man)\n",
    "\n",
    "woman_is_taller.mean()\n"
   ]
  },
  {
   "cell_type": "markdown",
   "metadata": {},
   "source": [
    "6. When installing anaconda on a student's computer, there's a 1 in 250 chance that the download is corrupted and the installation fails. What are the odds that after having 50 students download anaconda, no one has an installation issue? 100 students?\n",
    "\n",
    "  * What is the probability that we observe an installation issue within the first 150 students that download anaconda?\n",
    "\n",
    "  * How likely is it that 450 students all download anaconda without an issue?"
   ]
  },
  {
   "cell_type": "code",
   "execution_count": 21,
   "metadata": {},
   "outputs": [
    {
     "data": {
      "text/plain": [
       "0.81944"
      ]
     },
     "execution_count": 21,
     "metadata": {},
     "output_type": "execute_result"
    }
   ],
   "source": [
    "# set outcomes as 0 and 1 (0 = no issues, 1 = failed)\n",
    "# set trials = 50\n",
    "outcomes = [0, 1]\n",
    "installs = np.random.choice(outcomes, size=(100_000, 50), p=[0.996, 0.004])\n",
    "installs\n",
    "\n",
    "good_install = installs.sum(axis=1)\n",
    "(good_install == 0).mean()\n"
   ]
  },
  {
   "cell_type": "code",
   "execution_count": 22,
   "metadata": {},
   "outputs": [
    {
     "data": {
      "text/plain": [
       "0.66726"
      ]
     },
     "execution_count": 22,
     "metadata": {},
     "output_type": "execute_result"
    }
   ],
   "source": [
    "# set outcomes as 0 and 1 (0 = no issues, 1 = failed)\n",
    "# set trials = 100\n",
    "outcomes = [0, 1]\n",
    "installs = np.random.choice(outcomes, size=(100_000, 100), p=[0.996, 0.004])\n",
    "installs\n",
    "\n",
    "good_install = installs.sum(axis=1)\n",
    "(good_install == 0).mean()\n",
    "\n"
   ]
  },
  {
   "cell_type": "code",
   "execution_count": 28,
   "metadata": {},
   "outputs": [
    {
     "data": {
      "text/plain": [
       "0.45263"
      ]
     },
     "execution_count": 28,
     "metadata": {},
     "output_type": "execute_result"
    }
   ],
   "source": [
    "# set outcomes as 0 and 1 (0 = no issues, 1 = failed)\n",
    "# set trials = 150\n",
    "outcomes = [0, 1]\n",
    "installs = np.random.choice(outcomes, size=(100_000, 150), p=[0.996, 0.004])\n",
    "installs\n",
    "\n",
    "bad_install = installs.sum(axis=1)\n",
    "(bad_install > 0).mean()"
   ]
  },
  {
   "cell_type": "code",
   "execution_count": 23,
   "metadata": {},
   "outputs": [
    {
     "data": {
      "text/plain": [
       "0.16443"
      ]
     },
     "execution_count": 23,
     "metadata": {},
     "output_type": "execute_result"
    }
   ],
   "source": [
    "# set outcomes as 0 and 1 (0 = no issues, 1 = failed)\n",
    "# set trials = 450\n",
    "outcomes = [0, 1]\n",
    "installs = np.random.choice(outcomes, size=(100_000, 450), p=[0.996, 0.004])\n",
    "installs\n",
    "\n",
    "good_install = installs.sum(axis=1)\n",
    "(good_install == 0).mean()"
   ]
  },
  {
   "cell_type": "markdown",
   "metadata": {},
   "source": [
    "7.  There's a 70% chance on any given day that there will be at least one food truck at Travis Park. However, you haven't seen a food truck there in 3 days. How unlikely is this?\n",
    "\n",
    "   How likely is it that a food truck will show up sometime this week?"
   ]
  },
  {
   "cell_type": "code",
   "execution_count": 44,
   "metadata": {},
   "outputs": [
    {
     "data": {
      "text/plain": [
       "0.02749"
      ]
     },
     "execution_count": 44,
     "metadata": {},
     "output_type": "execute_result"
    }
   ],
   "source": [
    "# set outcomes as 0 and 1 (0 = no truck, 1 = yes truck)\n",
    "# set trials = 3\n",
    "outcomes = [0, 1]\n",
    "food_truck = np.random.choice(outcomes, size=(100_000, 3), p=[0.3, 0.7])\n",
    "food_truck\n",
    "\n",
    "this_week = food_truck.sum(axis=1)\n",
    "(this_week == 0).mean()\n",
    "\n",
    "\n",
    "\n",
    "\n"
   ]
  },
  {
   "cell_type": "code",
   "execution_count": 46,
   "metadata": {},
   "outputs": [
    {
     "data": {
      "text/plain": [
       "0.99174"
      ]
     },
     "execution_count": 46,
     "metadata": {},
     "output_type": "execute_result"
    }
   ],
   "source": [
    "# set outcomes as 0 and 1 (0 = no truck, 1 = yes truck)\n",
    "# set trials = 4\n",
    "outcomes = [0, 1]\n",
    "food_truck = np.random.choice(outcomes, size=(100_000, 4), p=[0.3, 0.7])\n",
    "food_truck\n",
    "\n",
    "this_week = food_truck.sum(axis=1)\n",
    "(this_week > 0).mean()\n",
    "\n",
    "\n",
    "\n"
   ]
  },
  {
   "cell_type": "markdown",
   "metadata": {},
   "source": [
    "8.  If 23 people are in the same room, what are the odds that two of them share a birthday? What if it's 20 people? 40?"
   ]
  },
  {
   "cell_type": "code",
   "execution_count": 16,
   "metadata": {},
   "outputs": [],
   "source": [
    "# Let's use a list comprehension: \n",
    "# a list of the length of the uniques for each instance for the full number of simulations by index, \n",
    "# but only if the number of uniques is less than the number of students in the class\n",
    "\n",
    "# Represent possible outcomes, the number of days in a year\n",
    "# unique days of the year \n",
    "outcomes = range(0, 365)\n",
    "\n",
    "# Create the data!\n",
    "# n_trials: the number of students(birthdays)\n",
    "n_simulations = 100_000\n",
    "n_trials = 23\n",
    "\n",
    "classrooms = np.random.choice(outcomes, size=(n_simulations, n_trials))\n"
   ]
  },
  {
   "cell_type": "code",
   "execution_count": 17,
   "metadata": {},
   "outputs": [
    {
     "data": {
      "text/plain": [
       "23"
      ]
     },
     "execution_count": 17,
     "metadata": {},
     "output_type": "execute_result"
    }
   ],
   "source": [
    "#Take a look at the data\n",
    "\n",
    "len(classrooms[0])  # if the length of unique birthdays is less than the number of students, we have duplicates"
   ]
  },
  {
   "cell_type": "code",
   "execution_count": 18,
   "metadata": {},
   "outputs": [],
   "source": [
    "same_bday = [len(np.unique(classrooms[n])) for n in range(0, n_simulations-1) if len(np.unique(classrooms[n])) < 23]\n",
    "#same_bday"
   ]
  },
  {
   "cell_type": "code",
   "execution_count": 19,
   "metadata": {},
   "outputs": [
    {
     "name": "stdout",
     "output_type": "stream",
     "text": [
      "The probability that we will have one or more shared birthdays over 23 students is 0.50778\n"
     ]
    }
   ],
   "source": [
    "# The length of this is going to be the number of times we had a class with shared birthdays, and we can divide that by the total number of simulations:\n",
    "\n",
    "prob_same_bday = len(same_bday) / n_simulations\n",
    "print(f'The probability that we will have one or more shared birthdays over {n_trials} students is {prob_same_bday}')"
   ]
  },
  {
   "cell_type": "code",
   "execution_count": null,
   "metadata": {},
   "outputs": [],
   "source": []
  }
 ],
 "metadata": {
  "kernelspec": {
   "display_name": "Python 3",
   "language": "python",
   "name": "python3"
  },
  "language_info": {
   "codemirror_mode": {
    "name": "ipython",
    "version": 3
   },
   "file_extension": ".py",
   "mimetype": "text/x-python",
   "name": "python",
   "nbconvert_exporter": "python",
   "pygments_lexer": "ipython3",
   "version": "3.8.5"
  }
 },
 "nbformat": 4,
 "nbformat_minor": 4
}
